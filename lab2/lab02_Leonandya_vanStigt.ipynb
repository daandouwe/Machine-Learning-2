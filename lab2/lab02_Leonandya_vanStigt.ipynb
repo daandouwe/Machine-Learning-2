{
 "cells": [
  {
   "cell_type": "markdown",
   "metadata": {},
   "source": [
    "# Lab 2: Inference in Graphical Models\n",
    "\n",
    "### Machine Learning 2 (2016/2017)\n",
    "\n",
    "* The lab exercises should be made in groups of two people or individually.\n",
    "* The hand-in deadline is Wednesday, May 10, 23:59.\n",
    "* Assignment should be sent to p.j.j.p.versteeg@uva.nl. The subject line of your email should be \"[ML2_2017] lab#_lastname1\\_lastname2\". \n",
    "* Put your and your teammates' names in the body of the email\n",
    "* Attach the .IPYNB (IPython Notebook) file containing your code and answers. Naming of the file follows the same rule as the subject line. For example, if the subject line is \"[ML2_2017] lab02\\_Bongers\\_Blom\", the attached file should be \"lab02\\_Bongers\\_Blom.ipynb\". Only use underscores (\"\\_\") to connect names, otherwise the files cannot be parsed.\n",
    "\n",
    "Notes on implementation:\n",
    "\n",
    "* You should write your code and answers in an IPython Notebook: http://ipython.org/notebook.html. If you have problems, please ask or e-mail Philip.\n",
    "* For some of the questions, you can write the code directly in the first code cell that provides the class structure.\n",
    "* Among the first lines of your notebook should be \"%pylab inline\". This imports all required modules, and your plots will appear inline.\n",
    "* NOTE: test your code and make sure we can run your notebook / scripts!"
   ]
  },
  {
   "cell_type": "markdown",
   "metadata": {},
   "source": [
    "### Introduction\n",
    "In this assignment, we will implement the sum-product and max-sum algorithms for factor graphs over discrete variables. The relevant theory is covered in chapter 8 of Bishop's PRML book, in particular section 8.4. Read this chapter carefuly before continuing!\n",
    "\n",
    "We will first implement sum-product and max-sum and apply it to a simple poly-tree structured factor graph for medical diagnosis. Then, we will implement a loopy version of the algorithms and use it for image denoising.\n",
    "\n",
    "For this assignment we recommended you stick to numpy ndarrays (constructed with np.array, np.zeros, np.ones, etc.) as opposed to numpy matrices, because arrays can store n-dimensional arrays whereas matrices only work for 2d arrays. We need n-dimensional arrays in order to store conditional distributions with more than 1 conditioning variable. If you want to perform matrix multiplication on arrays, use the np.dot function; all infix operators including *, +, -, work element-wise on arrays."
   ]
  },
  {
   "cell_type": "markdown",
   "metadata": {},
   "source": [
    "## Part 1: The sum-product algorithm\n",
    "\n",
    "We will implement a datastructure to store a factor graph and to facilitate computations on this graph. Recall that a factor graph consists of two types of nodes, factors and variables. Below you will find some classes for these node types to get you started. Carefully inspect this code and make sure you understand what it does; you will have to build on it later."
   ]
  },
  {
   "cell_type": "code",
   "execution_count": 910,
   "metadata": {
    "collapsed": false
   },
   "outputs": [
    {
     "name": "stdout",
     "output_type": "stream",
     "text": [
      "Populating the interactive namespace from numpy and matplotlib\n"
     ]
    }
   ],
   "source": [
    "%pylab inline\n",
    "class Node(object):\n",
    "    \"\"\"\n",
    "    Base-class for Nodes in a factor graph. Only instantiate sub-classes of Node.\n",
    "    \"\"\"\n",
    "    def __init__(self, name):\n",
    "        # A name for this Node, for printing purposes\n",
    "        self.name = name\n",
    "        \n",
    "        # Neighbours in the graph, identified with their index in this list.\n",
    "        # i.e. self.neighbours contains neighbour 0 through len(self.neighbours) - 1.\n",
    "        self.neighbours = []\n",
    "        \n",
    "        # Reset the node-state (not the graph topology)\n",
    "        self.reset()\n",
    "        \n",
    "    def reset(self):\n",
    "        # Incoming messages; a dictionary mapping neighbours to messages.\n",
    "        # That is, it maps  Node -> np.ndarray.\n",
    "        self.in_msgs = {}\n",
    "        \n",
    "        # A set of neighbours for which this node has pending messages.\n",
    "        # We use a python set object so we don't have to worry about duplicates.\n",
    "        self.pending = set([])\n",
    "\n",
    "    def add_neighbour(self, nb):\n",
    "        self.neighbours.append(nb)\n",
    "\n",
    "    def send_sp_msg(self, other):\n",
    "        # To be implemented in subclass.\n",
    "        raise Exception('Method send_sp_msg not implemented in base-class Node')\n",
    "   \n",
    "    def send_ms_msg(self, other):\n",
    "        # To be implemented in subclass.\n",
    "        raise Exception('Method send_ms_msg not implemented in base-class Node')\n",
    "    \n",
    "    def receive_msg(self, other, msg):\n",
    "        # Store the incomming message, replacing previous messages from the same node\n",
    "        self.in_msgs[other] = msg\n",
    "\n",
    "        other_nodes = set(self.neighbours) - {other}\n",
    "        received = set(self.in_msgs.keys())\n",
    "        ready_to_send_nodes = []\n",
    "        for node in other_nodes:\n",
    "#             ms = set([n for n in self.neighbours if n is not node])\n",
    "            ms = set(self.neighbours) - {node}\n",
    "            if ms <= received:\n",
    "                ready_to_send_nodes.append(node)\n",
    "        self.pending.update(ready_to_send_nodes)  \n",
    "\n",
    "    def __str__(self):\n",
    "        # This is printed when using 'print node_instance'\n",
    "        return self.name\n",
    "\n",
    "\n",
    "class Variable(Node):\n",
    "    def __init__(self, name, num_states):\n",
    "        \"\"\"\n",
    "        Variable node constructor.\n",
    "        Args:\n",
    "            name: a name string for this node. Used for printing. \n",
    "            num_states: the number of states this variable can take.\n",
    "            Allowable states run from 0 through (num_states - 1).\n",
    "            For example, for a binary variable num_states=2,\n",
    "            and the allowable states are 0, 1.\n",
    "        \"\"\"\n",
    "        self.num_states = num_states\n",
    "        \n",
    "        # Call the base-class constructor\n",
    "        super(Variable, self).__init__(name)\n",
    "    \n",
    "    def set_observed(self, observed_state):\n",
    "        \"\"\"\n",
    "        Set this variable to an observed state.\n",
    "        Args:\n",
    "            observed_state: an integer value in [0, self.num_states - 1].\n",
    "        \"\"\"\n",
    "        # Observed state is represented as a 1-of-N variable\n",
    "        # Could be 0.0 for sum-product, but log(0.0) = -inf so a tiny value is preferable for max-sum\n",
    "        self.observed_state[:] = 0.000001\n",
    "        self.observed_state[observed_state] = 1.0\n",
    "        \n",
    "    def set_latent(self):\n",
    "        \"\"\"\n",
    "        Erase an observed state for this variable and consider it latent again.\n",
    "        \"\"\"\n",
    "        # No state is preferred, so set all entries of observed_state to 1.0\n",
    "        # Using this representation we need not differentiate between observed and latent\n",
    "        # variables when sending messages.\n",
    "        self.observed_state[:] = 1.0\n",
    "        \n",
    "    def reset(self):\n",
    "        super(Variable, self).reset()\n",
    "        self.observed_state = np.ones(self.num_states)\n",
    "        \n",
    "    def marginal(self, Z=None):\n",
    "        \"\"\"\n",
    "        Compute the marginal distribution of this Variable.\n",
    "        It is assumed that message passing has completed when this function is called.\n",
    "        Args:\n",
    "            Z: an optional normalization constant can be passed in. If None is passed, Z is computed.\n",
    "        Returns: marginal, Z. The first is a numpy array containing the normalized marginal distribution.\n",
    "         Z is either equal to the input Z, or computed in this function (if Z=None was passed).\n",
    "        \"\"\"\n",
    "        for nb in self.neighbours:\n",
    "            assert nb in self.in_msgs.keys(), \"Cannot compute marginal: missing message from variable {}\".format(nb)\n",
    "        mus = [self.in_msgs[nb] for nb in self.neighbours] + [self.observed_state]\n",
    "        prod = np.multiply.reduce(mus)\n",
    "        if Z == None:\n",
    "            # compute Z\n",
    "            Z = np.sum(prod)\n",
    "            pass\n",
    "        marginal = 1/Z * prod\n",
    "        return marginal, Z\n",
    "    \n",
    "    def send_sp_msg(self, other):\n",
    "        # Variable -> Factor message for sum-product\n",
    "        assert type(other) == Factor, \"Other node needs to a be Factor, received {}\".format(other)\n",
    "        for nb in self.neighbours:\n",
    "            if not nb == other:\n",
    "                assert nb in self.in_msgs.keys(), \"Missing message from variable {}\".format(nb)\n",
    "        # all messages present\n",
    "        if len(self.neighbours) == 1:\n",
    "            # leaf variable-node\n",
    "            message = self.observed_state\n",
    "            \n",
    "        else:\n",
    "            other_neighbours = [nb for nb in self.neighbours if not nb == other]\n",
    "            vectors = [self.in_msgs[nb] for nb in other_neighbours] + [self.observed_state]\n",
    "            message = np.multiply.reduce(vectors)\n",
    "        \n",
    "        other.receive_msg(self, message)\n",
    "        self.pending.remove(other)\n",
    "        \n",
    "        \n",
    "    def send_ms_msg(self, other):\n",
    "        # TODO: implement Variable -> Factor message for max-sum\n",
    "        assert type(other) == Factor, \"Other node needs to a be Factor, received {}\".format(other)\n",
    "        for nb in self.neighbours:\n",
    "            if not nb == other:\n",
    "                assert nb in self.in_msgs.keys(), \"Missing message from variable {}\".format(nb)\n",
    "        # all messages present\n",
    "        if len(self.neighbours) == 1:\n",
    "            # leaf variable-node\n",
    "            message = np.log(self.observed_state)\n",
    "            \n",
    "        else:\n",
    "            other_neighbours = [nb for nb in self.neighbours if not nb == other]\n",
    "            vectors = [self.in_msgs[nb] for nb in other_neighbours] + np.log([self.observed_state])\n",
    "            message = np.add.reduce(vectors)\n",
    "        \n",
    "        other.receive_msg(self, message)\n",
    "        self.pending.remove(other)\n",
    "\n",
    "class Factor(Node):\n",
    "    def __init__(self, name, f, neighbours):\n",
    "        \"\"\"\n",
    "        Factor node constructor.\n",
    "        Args:\n",
    "            name: a name string for this node. Used for printing\n",
    "            f: a numpy.ndarray with N axes, where N is the number of neighbours.\n",
    "               That is, the axes of f correspond to variables, and the index along that axes corresponds to a value of that variable.\n",
    "               Each axis of the array should have as many entries as the corresponding neighbour variable has states.\n",
    "            neighbours: a list of neighbouring Variables. Bi-directional connections are created.\n",
    "        \"\"\"\n",
    "        # Call the base-class constructor\n",
    "        super(Factor, self).__init__(name)\n",
    "\n",
    "        assert len(neighbours) == f.ndim, 'Factor function f should accept as many arguments as this Factor node has neighbours'\n",
    "        \n",
    "        for nb_ind in range(len(neighbours)):\n",
    "            nb = neighbours[nb_ind]\n",
    "            assert f.shape[nb_ind] == nb.num_states, 'The range of the factor function f is invalid for input %i %s' % (nb_ind, nb.name)\n",
    "            self.add_neighbour(nb)\n",
    "            nb.add_neighbour(self)\n",
    "\n",
    "        self.f = f\n",
    "        \n",
    "    def send_sp_msg(self, other):\n",
    "        # Factor -> Variable message for sum-product\n",
    "        assert type(other) == Variable, \"Other node needs to a be Variable, received {}\".format(other)\n",
    "        # check if necessary messages are present\n",
    "        for nb in self.neighbours:\n",
    "            if not nb == other:\n",
    "                assert nb in self.in_msgs.keys(), \"Missing message from variable {}\".format(nb)\n",
    "        # all messages present\n",
    "        \n",
    "        if len(self.neighbours) == 1:\n",
    "            # leaf factor-node\n",
    "            message = self.f\n",
    "            \n",
    "        else:\n",
    "            other_neighbours = [nb for nb in self.neighbours if not nb == other]\n",
    "            vectors = [self.in_msgs[nb] for nb in other_neighbours]\n",
    "            product_mu = np.multiply.reduce(np.ix_(*vectors)) # is simply outer-product v1.v2^T if vectors = [v1, v2]\n",
    "            other_i = self.neighbours.index(other) # the index of the variable to which we send the message\n",
    "            f_axes = [i for i in range(len(self.neighbours)) if not i==other_i]\n",
    "            message = np.tensordot(self.f, product_mu, axes=(f_axes, range(product_mu.ndim)))\n",
    "        \n",
    "        other.receive_msg(self, message)\n",
    "        self.pending.remove(other)\n",
    "       \n",
    "    def send_ms_msg(self, other):\n",
    "        # TODO: implement Factor -> Variable message for max-sum\n",
    "        assert type(other) == Variable, \"Other node needs to a be Variable, received {}\".format(other)\n",
    "        # check if necessary messages are present\n",
    "        for nb in self.neighbours:\n",
    "            if not nb == other:\n",
    "                assert nb in self.in_msgs.keys(), \"Missing message from variable {}\".format(nb)\n",
    "        # all messages present\n",
    "        \n",
    "        if len(self.neighbours) == 1:\n",
    "            # leaf factor-node\n",
    "            message = np.log(self.f)\n",
    "        else:\n",
    "            other_neighbours = [nb for nb in self.neighbours if not nb == other]\n",
    "            vectors = [self.in_msgs[nb] for nb in other_neighbours]\n",
    "            sum_mu = np.add.reduce(np.ix_(*vectors))\n",
    "            other_i = self.neighbours.index(other) # the index of the variable to which we send the message\n",
    "            f_axes = tuple((i for i in range(len(self.neighbours)) if not i==other_i))\n",
    "            added = np.add(np.log(self.f), sum_mu)\n",
    "            message = np.amax(added, axis=f_axes)\n",
    "            \n",
    "        other.receive_msg(self, message)\n",
    "        self.pending.remove(other)"
   ]
  },
  {
   "cell_type": "markdown",
   "metadata": {},
   "source": [
    "### 1.1 Instantiate network (10 points)\n",
    "Convert the directed graphical model (\"Bayesian Network\") shown below to a factor graph. Instantiate this graph by creating Variable and Factor instances and linking them according to the graph structure. \n",
    "To instantiate the factor graph, first create the Variable nodes and then create Factor nodes, passing a list of neighbour Variables to each Factor.\n",
    "Use the following prior and conditional probabilities.\n",
    "\n",
    "$$\n",
    "p(\\verb+Influenza+) = 0.05 \\\\\\\\\n",
    "p(\\verb+Smokes+) = 0.2 \\\\\\\\\n",
    "$$\n",
    "\n",
    "$$\n",
    "p(\\verb+SoreThroat+ = 1 | \\verb+Influenza+ = 1) = 0.3 \\\\\\\\\n",
    "p(\\verb+SoreThroat+ = 1 | \\verb+Influenza+ = 0) = 0.001 \\\\\\\\\n",
    "p(\\verb+Fever+ = 1| \\verb+Influenza+ = 1) = 0.9 \\\\\\\\\n",
    "p(\\verb+Fever+ = 1| \\verb+Influenza+ = 0) = 0.05 \\\\\\\\\n",
    "p(\\verb+Bronchitis+ = 1 | \\verb+Influenza+ = 1, \\verb+Smokes+ = 1) = 0.99 \\\\\\\\\n",
    "p(\\verb+Bronchitis+ = 1 | \\verb+Influenza+ = 1, \\verb+Smokes+ = 0) = 0.9 \\\\\\\\\n",
    "p(\\verb+Bronchitis+ = 1 | \\verb+Influenza+ = 0, \\verb+Smokes+ = 1) = 0.7 \\\\\\\\\n",
    "p(\\verb+Bronchitis+ = 1 | \\verb+Influenza+ = 0, \\verb+Smokes+ = 0) = 0.0001 \\\\\\\\\n",
    "p(\\verb+Coughing+ = 1| \\verb+Bronchitis+ = 1) = 0.8 \\\\\\\\\n",
    "p(\\verb+Coughing+ = 1| \\verb+Bronchitis+ = 0) = 0.07 \\\\\\\\\n",
    "p(\\verb+Wheezing+ = 1| \\verb+Bronchitis+ = 1) = 0.6 \\\\\\\\\n",
    "p(\\verb+Wheezing+ = 1| \\verb+Bronchitis+ = 0) = 0.001 \\\\\\\\\n",
    "$$"
   ]
  },
  {
   "cell_type": "code",
   "execution_count": 215,
   "metadata": {
    "collapsed": false
   },
   "outputs": [
    {
     "data": {
      "image/png": "[encoded data removed]",
      "text/plain": [
       "<IPython.core.display.Image object>"
      ]
     },
     "execution_count": 215,
     "metadata": {},
     "output_type": "execute_result"
    }
   ],
   "source": [
    "from IPython.core.display import Image \n",
    "Image(filename='bn.png') "
   ]
  },
  {
   "cell_type": "code",
   "execution_count": 1021,
   "metadata": {
    "collapsed": false
   },
   "outputs": [],
   "source": [
    "# YOUR ANSWER HERE\n",
    "\n",
    "I = Variable('I', 2)\n",
    "ST = Variable('ST', 2)\n",
    "F = Variable('F', 2)\n",
    "B = Variable('B', 2)\n",
    "S = Variable('S', 2)\n",
    "C = Variable('C', 2)\n",
    "W = Variable('W', 2)\n",
    "\n",
    "F_I = Factor('F_I', np.array([0.95, 0.05]), [I])\n",
    "\n",
    "F_S = Factor('F_S', np.array([0.8, 0.2]), [S])\n",
    "\n",
    "F_IST = Factor('F_IST', np.array([[0.999, 0.001], \n",
    "                                  [0.7, 0.3]]), [I, ST])\n",
    "\n",
    "F_IF = Factor('F_IF', np.array([[0.1, 0.9], \n",
    "                                [0.95, 0.05]]), [I, F])\n",
    "\n",
    "F_ISB = Factor('F_ISB', np.array([[[0.9999, 0.0001], \n",
    "                                   [0.3, 0.7]], \n",
    "                                  [[0.1, 0.9], \n",
    "                                   [0.01, 0.99]]]), [I, S, B])\n",
    "\n",
    "F_BC = Factor('F_BC', np.array([[0.93, 0.07], \n",
    "                                [0.2, 0.8]]), [B, C])\n",
    "\n",
    "F_BW = Factor('F_BW', np.array([[0.999, 0.001], \n",
    "                                [0.4, 0.6]]), [B, W])"
   ]
  },
  {
   "cell_type": "markdown",
   "metadata": {},
   "source": [
    "### 1.2 Factor to variable messages (20 points)\n",
    "Write a method `send_sp_msg(self, other)` for the Factor class, that checks if all the information required to pass a message to Variable `other` is present, computes the message and sends it to `other`. \"Sending\" here simply means calling the `receive_msg` function of the receiving node (we will implement this later). The message itself should be represented as a numpy array (np.array) whose length is equal to the number of states of the variable.\n",
    "\n",
    "An elegant and efficient solution can be obtained using the n-way outer product of vectors. This product takes n vectors $\\mathbf{x}^{(1)}, \\ldots, \\mathbf{x}^{(n)}$ and computes a $n$-dimensional tensor (ndarray) whose element $i_0,i_1,...,i_n$ is given by $\\prod_j \\mathbf{x}^{(j)}_{i_j}$. In python, this is realized as `np.multiply.reduce(np.ix_(*vectors))` for a python list `vectors` of 1D numpy arrays. Try to figure out how this statement works -- it contains some useful functional programming techniques. Another function that you may find useful in computing the message is `np.tensordot`."
   ]
  },
  {
   "cell_type": "code",
   "execution_count": 995,
   "metadata": {
    "collapsed": false
   },
   "outputs": [
    {
     "name": "stdout",
     "output_type": "stream",
     "text": [
      "F_IST received from\n",
      "\tST: [1 2]\n",
      "\n",
      "\n",
      "I received from\n",
      "\tF_IST: [ 1.001  1.3  ]\n",
      "\tF_IF: [1 2]\n",
      "\tF_I: [1 2]\n",
      "\n",
      "\n"
     ]
    }
   ],
   "source": [
    "# Testing\n",
    "\n",
    "F_IST.receive_msg(ST, np.array([1, 2]))\n",
    "print('F_IST received from')\n",
    "print('\\n'.join([\"\\t{0}: {1}\".format(k, v) for k,v in F_IST.in_msgs.items()]))\n",
    "print('\\n')\n",
    "\n",
    "F_IST.send_sp_msg(I)\n",
    "print('I received from')\n",
    "print('\\n'.join([\"\\t{0}: {1}\".format(k, v) for k,v in I.in_msgs.items()]))\n",
    "print('\\n')"
   ]
  },
  {
   "cell_type": "markdown",
   "metadata": {},
   "source": [
    "### 1.3 Variable to factor messages (10 points)\n",
    "\n",
    "Write a method `send_sp_message(self, other)` for the Variable class, that checks if all the information required to pass a message to Variable var is present, computes the message and sends it to factor."
   ]
  },
  {
   "cell_type": "code",
   "execution_count": 994,
   "metadata": {
    "collapsed": false
   },
   "outputs": [
    {
     "name": "stdout",
     "output_type": "stream",
     "text": [
      "I received from\n",
      "\tF_IST: [1 2]\n",
      "\tF_IF: [1 2]\n",
      "\tF_I: [1 2]\n",
      "\n",
      "\n",
      "F_ISB received from\n",
      "\tI: [ 1.  8.]\n"
     ]
    }
   ],
   "source": [
    "# Testing\n",
    "I.receive_msg(F_IST, np.array([1, 2]))\n",
    "I.receive_msg(F_IF, np.array([1, 2]))\n",
    "I.receive_msg(F_I, np.array([1, 2]))\n",
    "\n",
    "# Checking received messages\n",
    "print('I received from')\n",
    "print('\\n'.join([\"\\t{0}: {1}\".format(k, v) for k,v in I.in_msgs.items()]))\n",
    "print('\\n')\n",
    "\n",
    "# Checking sent message\n",
    "I.send_sp_msg(F_ISB)\n",
    "print('F_ISB received from')\n",
    "print('\\n'.join([\"\\t{0}: {1}\".format(k, v) for k,v in F_ISB.in_msgs.items()]))"
   ]
  },
  {
   "cell_type": "markdown",
   "metadata": {},
   "source": [
    "### 1.4 Compute marginal (10 points)\n",
    "Later in this assignment, we will implement message passing schemes to do inference. Once the message passing has completed, we will want to compute local marginals for each variable.\n",
    "Write the method `marginal` for the Variable class, that computes a marginal distribution over that node."
   ]
  },
  {
   "cell_type": "code",
   "execution_count": 996,
   "metadata": {
    "collapsed": false
   },
   "outputs": [
    {
     "name": "stdout",
     "output_type": "stream",
     "text": [
      "p(I=0) = 0.2857142857142857\n",
      "p(I=1) = 0.7142857142857142\n",
      "Z = 14.0\n"
     ]
    }
   ],
   "source": [
    "I.receive_msg(F_IST, np.array([1, 2]))\n",
    "I.receive_msg(F_IF, np.array([1, 5]))\n",
    "I.receive_msg(F_I, np.array([2, 1]))\n",
    "I.receive_msg(F_ISB, np.array([2, 1]))\n",
    "\n",
    "marginal, Z = I.marginal()\n",
    "\n",
    "print('p(I=0) = {}'.format(marginal[0]))\n",
    "print('p(I=1) = {}'.format(marginal[1]))\n",
    "print('Z = {}'.format(Z))"
   ]
  },
  {
   "cell_type": "markdown",
   "metadata": {},
   "source": [
    "### 1.5 Receiving messages (10 points)\n",
    "In order to implement the loopy and non-loopy message passing algorithms, we need some way to determine which nodes are ready to send messages to which neighbours. To do this in a way that works for both loopy and non-loopy algorithms, we make use of the concept of \"pending messages\", which is explained in Bishop (8.4.7): \n",
    "\"we will say that a (variable or factor)\n",
    "node a has a message pending on its link to a node b if node a has received any\n",
    "message on any of its other links since the last time it send (sic) a message to b. Thus,\n",
    "when a node receives a message on one of its links, this creates pending messages\n",
    "on all of its other links.\"\n",
    "\n",
    "Keep in mind that for the non-loopy algorithm, nodes may not have received any messages on some or all of their links. Therefore, before we say node a has a pending message for node b, we must check that node a has received all messages needed to compute the message that is to be sent to b.\n",
    "\n",
    "Modify the function `receive_msg`, so that it updates the self.pending variable as described above. The member self.pending is a set that is to be filled with Nodes to which self has pending messages. Modify the `send_msg` functions to remove pending messages as they are sent."
   ]
  },
  {
   "cell_type": "markdown",
   "metadata": {},
   "source": [
    "### 1.6 Inference Engine (10 points)\n",
    "Write a function `sum_product(node_list)` that runs the sum-product message passing algorithm on a tree-structured factor graph with given nodes. The input parameter `node_list` is a list of all Node instances in the graph, which is assumed to be ordered correctly. That is, the list starts with a leaf node, which can always send a message. Subsequent nodes in `node_list` should be capable of sending a message when the pending messages of preceding nodes in the list have been sent. The sum-product algorithm then proceeds by passing over the list from beginning to end, sending all pending messages at the nodes it encounters. Then, in reverse order, the algorithm traverses the list again and again sends all pending messages at each node as it is encountered. For this to work, you must initialize pending messages for all the leaf nodes, e.g. `influenza_prior.pending.add(influenza)`, where `influenza_prior` is a Factor node corresponding the the prior, `influenza` is a Variable node and the only connection of `influenza_prior` goes to `influenza`.\n",
    "\n",
    "\n"
   ]
  },
  {
   "cell_type": "code",
   "execution_count": 997,
   "metadata": {
    "collapsed": false,
    "scrolled": true
   },
   "outputs": [],
   "source": [
    "variables = [I, ST, F, B, S, C, W]\n",
    "node_list = [ST, F, F_I, F_S, C, W, F_IST, F_IF, S, I, F_ISB, F_BC, F_BW, B]\n",
    "\n",
    "def init_nodes():\n",
    "    F_I.pending.add(I)\n",
    "    F_S.pending.add(S)\n",
    "    ST.pending.add(F_IST)\n",
    "    F.pending.add(F_IF)\n",
    "    C.pending.add(F_BC)\n",
    "    W.pending.add(F_BW)\n",
    "\n",
    "def passing(node_list, sum_product=True, log=False):\n",
    "    for node in node_list:\n",
    "        if log: print(\"Current node: {}\".format(node))\n",
    "        if log: print('Pending:')\n",
    "        if log: print('\\n'.join(['\\t{}'.format(pending) for pending in node.pending]))\n",
    "        for pending in list(node.pending):\n",
    "            if log: print('Sending from {0} to {1}'.format(node, pending))\n",
    "            if sum_product:\n",
    "                node.send_sp_msg(pending)\n",
    "            else:\n",
    "                node.send_ms_msg(pending)\n",
    "            if log: print('\\n')\n",
    "\n",
    "def sum_product(node_list):\n",
    "    init_nodes()\n",
    "    passing(node_list, sum_product=True)\n",
    "    passing(reversed(node_list), sum_product=True)"
   ]
  },
  {
   "cell_type": "markdown",
   "metadata": {},
   "source": [
    "### 1.7 Observed variables and probabilistic queries (15 points)\n",
    "We will now use the inference engine to answer probabilistic queries. That is, we will set certain variables to observed values, and obtain the marginals over latent variables. We have already provided functions `set_observed` and `set_latent` that manage a member of Variable called `observed_state`. Modify the `Variable.send_msg` and `Variable.marginal` routines that you wrote before, to use `observed_state` so as to get the required marginals when some nodes are observed."
   ]
  },
  {
   "cell_type": "code",
   "execution_count": 1013,
   "metadata": {
    "collapsed": false
   },
   "outputs": [
    {
     "name": "stdout",
     "output_type": "stream",
     "text": [
      "p(I=0) = 0.95\n",
      "p(I=1) = 0.05\n",
      "\n",
      "\n",
      "p(ST=0) = 0.98405\n",
      "p(ST=1) = 0.01595\n",
      "\n",
      "\n",
      "p(F=0) = 0.14250000000000002\n",
      "p(F=1) = 0.8575000000000002\n",
      "\n",
      "\n",
      "p(C=0) = 0.79934752\n",
      "p(C=1) = 0.20065247999999997\n",
      "\n",
      "\n",
      "p(S=0) = 0.8\n",
      "p(S=1) = 0.2\n",
      "\n",
      "\n",
      "p(W=0) = 0.891793376\n",
      "p(W=1) = 0.10820662399999996\n"
     ]
    }
   ],
   "source": [
    "variables = [I, ST, F, B, S, C, W]\n",
    "node_list = [ST, F, F_I, F_S, C, W, F_IST, F_IF, S, I, F_ISB, F_BC, F_BW, B]\n",
    "\n",
    "sum_product(node_list)\n",
    "\n",
    "I_marginal, _ = I.marginal()\n",
    "ST_marginal, _ = ST.marginal()\n",
    "F_marginal, _ = F.marginal()\n",
    "C_marginal, _ = C.marginal()\n",
    "S_marginal, _ = S.marginal()\n",
    "W_marginal, _ = W.marginal()\n",
    "\n",
    "print('p(I=0) = {}'.format(I_marginal[0]))\n",
    "print('p(I=1) = {}'.format(I_marginal[1]))\n",
    "print('\\n')\n",
    "\n",
    "print('p(ST=0) = {}'.format(ST_marginal[0]))\n",
    "print('p(ST=1) = {}'.format(ST_marginal[1]))\n",
    "print('\\n')\n",
    "\n",
    "print('p(F=0) = {}'.format(F_marginal[0]))\n",
    "print('p(F=1) = {}'.format(F_marginal[1]))\n",
    "print('\\n')\n",
    "\n",
    "print('p(C=0) = {}'.format(C_marginal[0]))\n",
    "print('p(C=1) = {}'.format(C_marginal[1]))\n",
    "print('\\n')\n",
    "\n",
    "print('p(S=0) = {}'.format(S_marginal[0]))\n",
    "print('p(S=1) = {}'.format(S_marginal[1]))\n",
    "print('\\n')\n",
    "\n",
    "print('p(W=0) = {}'.format(W_marginal[0]))\n",
    "print('p(W=1) = {}'.format(W_marginal[1]))"
   ]
  },
  {
   "cell_type": "code",
   "execution_count": 1015,
   "metadata": {
    "collapsed": false
   },
   "outputs": [
    {
     "name": "stdout",
     "output_type": "stream",
     "text": [
      "p(I=0) = 0.9499999999999998\n",
      "p(I=1) = 0.05000000000000001\n",
      "\n",
      "\n",
      "p(ST=0) = 0.98405\n",
      "p(ST=1) = 0.015950000000000006\n",
      "\n",
      "\n",
      "p(F=0) = 0.14250000000000004\n",
      "p(F=1) = 0.8574999999999999\n",
      "\n",
      "\n",
      "p(C=0) = 0.4084169546547814\n",
      "p(C=1) = 0.5915830453452187\n",
      "\n",
      "\n",
      "p(S=0) = 3.9999840000639995e-06\n",
      "p(S=1) = 0.999996000016\n",
      "\n",
      "\n",
      "p(W=0) = 0.5710161038879645\n",
      "p(W=1) = 0.4289838961120355\n"
     ]
    }
   ],
   "source": [
    "variables = [I, ST, F, B, S, C, W]\n",
    "node_list = [ST, F, F_I, F_S, C, W, F_IST, F_IF, S, I, F_ISB, F_BC, F_BW, B]\n",
    "\n",
    "# Setting Smoking observed\n",
    "S.set_observed(1)\n",
    "\n",
    "sum_product(node_list)\n",
    "\n",
    "I_marginal, _ = I.marginal()\n",
    "ST_marginal, _ = ST.marginal()\n",
    "F_marginal, _ = F.marginal()\n",
    "C_marginal, _ = C.marginal()\n",
    "S_marginal, _ = S.marginal()\n",
    "W_marginal, _ = W.marginal()\n",
    "\n",
    "print('p(I=0) = {}'.format(I_marginal[0]))\n",
    "print('p(I=1) = {}'.format(I_marginal[1]))\n",
    "print('\\n')\n",
    "\n",
    "print('p(ST=0) = {}'.format(ST_marginal[0]))\n",
    "print('p(ST=1) = {}'.format(ST_marginal[1]))\n",
    "print('\\n')\n",
    "\n",
    "print('p(F=0) = {}'.format(F_marginal[0]))\n",
    "print('p(F=1) = {}'.format(F_marginal[1]))\n",
    "print('\\n')\n",
    "\n",
    "print('p(C=0) = {}'.format(C_marginal[0]))\n",
    "print('p(C=1) = {}'.format(C_marginal[1]))\n",
    "print('\\n')\n",
    "\n",
    "print('p(S=0) = {}'.format(S_marginal[0]))\n",
    "print('p(S=1) = {}'.format(S_marginal[1]))\n",
    "print('\\n')\n",
    "\n",
    "print('p(W=0) = {}'.format(W_marginal[0]))\n",
    "print('p(W=1) = {}'.format(W_marginal[1]))"
   ]
  },
  {
   "cell_type": "code",
   "execution_count": 1017,
   "metadata": {
    "collapsed": false
   },
   "outputs": [
    {
     "name": "stdout",
     "output_type": "stream",
     "text": [
      "p(I=0) = 1.8999639006858866e-05\n",
      "p(I=1) = 0.999981000360993\n",
      "\n",
      "\n",
      "p(ST=0) = 0.7000056808920629\n",
      "p(ST=1) = 0.2999943191079369\n",
      "\n",
      "\n",
      "p(F=0) = 0.9499838503068441\n",
      "p(F=1) = 0.05001614969315583\n",
      "\n",
      "\n",
      "p(C=0) = 0.25987078954539866\n",
      "p(C=1) = 0.7401292104546013\n",
      "\n",
      "\n",
      "p(S=0) = 0.7999999999999999\n",
      "p(S=1) = 0.19999999999999998\n",
      "\n",
      "\n",
      "p(W=0) = 0.4491268533393066\n",
      "p(W=1) = 0.5508731466606934\n"
     ]
    }
   ],
   "source": [
    "variables = [I, ST, F, B, S, C, W]\n",
    "node_list = [ST, F, F_I, F_S, C, W, F_IST, F_IF, S, I, F_ISB, F_BC, F_BW, B]\n",
    "\n",
    "# Setting Influenza observed\n",
    "I.set_observed(1)\n",
    "\n",
    "sum_product(node_list)\n",
    "\n",
    "I_marginal, _ = I.marginal()\n",
    "ST_marginal, _ = ST.marginal()\n",
    "F_marginal, _ = F.marginal()\n",
    "C_marginal, _ = C.marginal()\n",
    "S_marginal, _ = S.marginal()\n",
    "W_marginal, _ = W.marginal()\n",
    "\n",
    "print('p(I=0) = {}'.format(I_marginal[0]))\n",
    "print('p(I=1) = {}'.format(I_marginal[1]))\n",
    "print('\\n')\n",
    "\n",
    "print('p(ST=0) = {}'.format(ST_marginal[0]))\n",
    "print('p(ST=1) = {}'.format(ST_marginal[1]))\n",
    "print('\\n')\n",
    "\n",
    "print('p(F=0) = {}'.format(F_marginal[0]))\n",
    "print('p(F=1) = {}'.format(F_marginal[1]))\n",
    "print('\\n')\n",
    "\n",
    "print('p(C=0) = {}'.format(C_marginal[0]))\n",
    "print('p(C=1) = {}'.format(C_marginal[1]))\n",
    "print('\\n')\n",
    "\n",
    "print('p(S=0) = {}'.format(S_marginal[0]))\n",
    "print('p(S=1) = {}'.format(S_marginal[1]))\n",
    "print('\\n')\n",
    "\n",
    "print('p(W=0) = {}'.format(W_marginal[0]))\n",
    "print('p(W=1) = {}'.format(W_marginal[1]))"
   ]
  },
  {
   "cell_type": "markdown",
   "metadata": {},
   "source": [
    "### 1.8 Sum-product and MAP states (5 points)\n",
    "A maximum a posteriori state (MAP-state) is an assignment of all latent variables that maximizes the probability of latent variables given observed variables:\n",
    "$$\n",
    "\\mathbf{x}_{\\verb+MAP+} = \\arg\\max _{\\mathbf{x}} p(\\mathbf{x} | \\mathbf{y})\n",
    "$$\n",
    "Could we use the sum-product algorithm to obtain a MAP state? If yes, how? If no, why not?\n"
   ]
  },
  {
   "cell_type": "markdown",
   "metadata": {},
   "source": [
    "When we've run the sum-product algorithm - with the observed variables set to observed - we can compute the marginals of each $x_i$ in $\\mathbf{x} = (x_1,\\dots,x_s)$. Then we choose $x_i^{\\verb+MAP+} = \\arg \\max_{x_i} p(x_i)$, and set $\\mathbf{x}^{\\verb+MAP+} = (x_1^{\\verb+MAP+},\\dots,x_s^{\\verb+MAP+})$. This way we obtain a MAP-state."
   ]
  },
  {
   "cell_type": "markdown",
   "metadata": {},
   "source": [
    "## Part 2: The max-sum algorithm\n",
    "Next, we implement the max-sum algorithm as described in section 8.4.5 of Bishop."
   ]
  },
  {
   "cell_type": "markdown",
   "metadata": {},
   "source": [
    "### 2.1 Factor to variable messages (10 points)\n",
    "Implement the function `Factor.send_ms_msg` that sends Factor -> Variable messages for the max-sum algorithm. It is analogous to the `Factor.send_sp_msg` function you implemented before."
   ]
  },
  {
   "cell_type": "code",
   "execution_count": 1020,
   "metadata": {
    "collapsed": false
   },
   "outputs": [
    {
     "name": "stdout",
     "output_type": "stream",
     "text": [
      "F_IST received from\n",
      "\tST: [1 2]\n",
      "\n",
      "\n",
      "I received from\n",
      "\tF_IST: [ 0.9989995  0.7960272]\n",
      "\n",
      "\n"
     ]
    }
   ],
   "source": [
    "# Testing send_msd_msg for Factor class\n",
    "\n",
    "F_IST.receive_msg(ST, np.array([1, 2]))\n",
    "print('F_IST received from')\n",
    "print('\\n'.join([\"\\t{0}: {1}\".format(k, v) for k,v in F_IST.in_msgs.items()]))\n",
    "print('\\n')\n",
    "\n",
    "F_IST.send_ms_msg(I)\n",
    "print('I received from')\n",
    "print('\\n'.join([\"\\t{0}: {1}\".format(k, v) for k,v in I.in_msgs.items()]))\n",
    "print('\\n')"
   ]
  },
  {
   "cell_type": "markdown",
   "metadata": {},
   "source": [
    "### 2.2 Variable to factor messages (10 points)\n",
    "Implement the `Variable.send_ms_msg` function that sends Variable -> Factor messages for the max-sum algorithm."
   ]
  },
  {
   "cell_type": "code",
   "execution_count": 1022,
   "metadata": {
    "collapsed": false
   },
   "outputs": [
    {
     "name": "stdout",
     "output_type": "stream",
     "text": [
      "I received from\n",
      "\tF_IST: [1 2]\n",
      "\tF_IF: [1 2]\n",
      "\tF_I: [1 2]\n",
      "\n",
      "\n",
      "F_ISB received from\n",
      "\tI: [ 3.  6.]\n"
     ]
    }
   ],
   "source": [
    "# Testing send_msd_msg for Variable class\n",
    "\n",
    "I.receive_msg(F_IST, np.array([1, 2]))\n",
    "I.receive_msg(F_IF, np.array([1, 2]))\n",
    "I.receive_msg(F_I, np.array([1, 2]))\n",
    "\n",
    "# Checking received messages\n",
    "print('I received from')\n",
    "print('\\n'.join([\"\\t{0}: {1}\".format(k, v) for k,v in I.in_msgs.items()]))\n",
    "print('\\n')\n",
    "\n",
    "# Checking sent message\n",
    "I.send_ms_msg(F_ISB)\n",
    "print('F_ISB received from')\n",
    "print('\\n'.join([\"\\t{0}: {1}\".format(k, v) for k,v in F_ISB.in_msgs.items()]))\n"
   ]
  },
  {
   "cell_type": "markdown",
   "metadata": {},
   "source": [
    "### 2.3 Find a MAP state (10 points)\n",
    "\n",
    "Using the same message passing schedule we used for sum-product, implement the max-sum algorithm. For simplicity, we will ignore issues relating to non-unique maxima. So there is no need to implement backtracking; the MAP state is obtained by a per-node maximization (eq. 8.98 in Bishop). Make sure your algorithm works with both latent and observed variables."
   ]
  },
  {
   "cell_type": "code",
   "execution_count": 1051,
   "metadata": {
    "collapsed": true
   },
   "outputs": [],
   "source": [
    "I = Variable('I', 2)\n",
    "ST = Variable('ST', 2)\n",
    "F = Variable('F', 2)\n",
    "B = Variable('B', 2)\n",
    "S = Variable('S', 2)\n",
    "C = Variable('C', 2)\n",
    "W = Variable('W', 2)\n",
    "\n",
    "F_I = Factor('F_I', np.array([0.95, 0.05]), [I])\n",
    "F_S = Factor('F_S', np.array([0.8, 0.2]), [S])\n",
    "\n",
    "F_IST = Factor('F_IST', np.array([[0.999, 0.001], \n",
    "                                  [0.7, 0.3]]), [I, ST])\n",
    "\n",
    "F_IF = Factor('F_IF', np.array([[0.1, 0.9], \n",
    "                                [0.95, 0.05]]), [I, F])\n",
    "\n",
    "F_ISB = Factor('F_ISB', np.array([[[0.9999, 0.0001], \n",
    "                                   [0.3, 0.7]], \n",
    "                                  [[0.1, 0.9], \n",
    "                                   [0.01, 0.99]]]), [I, S, B])\n",
    "\n",
    "F_BC = Factor('F_BC', np.array([[0.93, 0.07], \n",
    "                                [0.2, 0.8]]), [B, C])\n",
    "\n",
    "F_BW = Factor('F_BW', np.array([[0.999, 0.001], \n",
    "                                [0.4, 0.6]]), [B, W])"
   ]
  },
  {
   "cell_type": "code",
   "execution_count": 1039,
   "metadata": {
    "collapsed": false
   },
   "outputs": [],
   "source": [
    "def MAP_state(node):\n",
    "    mus = [node.in_msgs[nb] for nb in node.neighbours] + np.log(node.observed_state)\n",
    "    return np.argmax(np.add.reduce(mus))\n",
    "    \n",
    "def max_sum(node_list):\n",
    "    passing(node_list, sum_product=False)\n",
    "    passing(reversed(node_list), sum_product=False)\n",
    "    \n",
    "def print_MAP(variables):\n",
    "    print('\\n'.join(['{0}: {1}'.format(node, MAP_state(node)) for node in variables]))"
   ]
  },
  {
   "cell_type": "code",
   "execution_count": 1040,
   "metadata": {
    "collapsed": false
   },
   "outputs": [
    {
     "name": "stdout",
     "output_type": "stream",
     "text": [
      "I: 0\n",
      "ST: 0\n",
      "F: 0\n",
      "B: 0\n",
      "S: 0\n",
      "C: 0\n",
      "W: 0\n"
     ]
    }
   ],
   "source": [
    "variables = [I, ST, F, B, S, C, W]\n",
    "node_list = [ST, F, F_I, F_S, C, W, F_IST, F_IF, S, I, F_ISB, F_BC, F_BW, B]\n",
    "\n",
    "init_nodes()\n",
    "max_sum(node_list)\n",
    "print_MAP(variables)"
   ]
  },
  {
   "cell_type": "code",
   "execution_count": 1042,
   "metadata": {
    "collapsed": false,
    "scrolled": true
   },
   "outputs": [
    {
     "name": "stdout",
     "output_type": "stream",
     "text": [
      "I: 1\n",
      "ST: 1\n",
      "F: 1\n",
      "B: 0\n",
      "S: 1\n",
      "C: 0\n",
      "W: 0\n"
     ]
    }
   ],
   "source": [
    "variables = [I, ST, F, B, S, C, W]\n",
    "node_list = [ST, F, F_I, F_S, C, W, F_IST, F_IF, S, I, F_ISB, F_BC, F_BW, B]\n",
    "\n",
    "init_nodes()\n",
    "I.set_observed(1)\n",
    "max_sum(node_list)\n",
    "print_MAP(variables)"
   ]
  },
  {
   "cell_type": "code",
   "execution_count": 1044,
   "metadata": {
    "collapsed": false
   },
   "outputs": [
    {
     "name": "stdout",
     "output_type": "stream",
     "text": [
      "I: 0\n",
      "ST: 0\n",
      "F: 0\n",
      "B: 1\n",
      "S: 1\n",
      "C: 1\n",
      "W: 1\n"
     ]
    }
   ],
   "source": [
    "variables = [I, ST, F, B, S, C, W]\n",
    "node_list = [ST, F, F_I, F_S, C, W, F_IST, F_IF, S, I, F_ISB, F_BC, F_BW, B]\n",
    "\n",
    "init_nodes()\n",
    "S.set_observed(1)\n",
    "max_sum(node_list)\n",
    "print_MAP(variables)"
   ]
  },
  {
   "cell_type": "code",
   "execution_count": 1052,
   "metadata": {
    "collapsed": false
   },
   "outputs": [
    {
     "name": "stdout",
     "output_type": "stream",
     "text": [
      "I: 1\n",
      "ST: 1\n",
      "F: 1\n",
      "B: 1\n",
      "S: 1\n",
      "C: 1\n",
      "W: 1\n"
     ]
    }
   ],
   "source": [
    "variables = [I, ST, F, B, S, C, W]\n",
    "node_list = [ST, F, F_I, F_S, C, W, F_IST, F_IF, S, I, F_ISB, F_BC, F_BW, B]\n",
    "\n",
    "init_nodes()\n",
    "I.set_observed(1)\n",
    "S.set_observed(1)\n",
    "max_sum(node_list)\n",
    "print_MAP(variables)"
   ]
  },
  {
   "cell_type": "code",
   "execution_count": 1050,
   "metadata": {
    "collapsed": false
   },
   "outputs": [
    {
     "name": "stdout",
     "output_type": "stream",
     "text": [
      "I: 0\n",
      "ST: 0\n",
      "F: 0\n",
      "B: 1\n",
      "S: 0\n",
      "C: 1\n",
      "W: 1\n"
     ]
    }
   ],
   "source": [
    "variables = [I, ST, F, B, S, C, W]\n",
    "node_list = [ST, F, F_I, F_S, C, W, F_IST, F_IF, S, I, F_ISB, F_BC, F_BW, B]\n",
    "\n",
    "init_nodes()\n",
    "C.set_observed(1)\n",
    "W.set_observed(1)\n",
    "max_sum(node_list)\n",
    "print_MAP(variables)"
   ]
  },
  {
   "cell_type": "markdown",
   "metadata": {},
   "source": [
    "## Part 3: Image Denoising and Loopy BP\n",
    "\n",
    "Next, we will use a loopy version of max-sum to perform denoising on a binary image. The model itself is discussed in Bishop 8.3.3, but we will use loopy max-sum instead of Iterative Conditional Modes as Bishop does.\n",
    "\n",
    "The following code creates some toy data: `im` is a quite large binary image and `test_im` is a smaller synthetic binary image. Noisy versions are also provided."
   ]
  },
  {
   "cell_type": "code",
   "execution_count": 1070,
   "metadata": {
    "collapsed": false
   },
   "outputs": [
    {
     "data": {
      "text/plain": [
       "<matplotlib.image.AxesImage at 0x1791bc908>"
      ]
     },
     "execution_count": 1070,
     "metadata": {},
     "output_type": "execute_result"
    },
    {
     "data": {
      "image/png": "[encoded data removed]",
      "text/plain": [
       "<matplotlib.figure.Figure at 0x1f30c5320>"
      ]
     },
     "metadata": {},
     "output_type": "display_data"
    },
    {
     "data": {
      "image/png": "[encoded data removed]",
      "text/plain": [
       "<matplotlib.figure.Figure at 0x1f3295e10>"
      ]
     },
     "metadata": {},
     "output_type": "display_data"
    },
    {
     "data": {
      "image/png": "[encoded data removed]",
      "text/plain": [
       "<matplotlib.figure.Figure at 0x178bc70b8>"
      ]
     },
     "metadata": {},
     "output_type": "display_data"
    },
    {
     "data": {
      "image/png": "[encoded data removed]",
      "text/plain": [
       "<matplotlib.figure.Figure at 0x178bc7a20>"
      ]
     },
     "metadata": {},
     "output_type": "display_data"
    }
   ],
   "source": [
    "from pylab import imread, gray\n",
    "# Load the image and binarize\n",
    "im = np.mean(imread('dalmatian1.png'), axis=2) > 0.5\n",
    "imshow(im)\n",
    "gray()\n",
    "\n",
    "# Add some noise\n",
    "noise = np.random.rand(*im.shape) > 0.9\n",
    "noise_im = np.logical_xor(noise, im)\n",
    "figure()\n",
    "imshow(noise_im)\n",
    "\n",
    "test_im = np.zeros((10,10))\n",
    "#test_im[5:8, 3:8] = 1.0\n",
    "#test_im[5,5] = 1.0\n",
    "figure()\n",
    "imshow(test_im)\n",
    "\n",
    "# Add some noise\n",
    "noise = np.random.rand(*test_im.shape) > 0.9\n",
    "noise_test_im = np.logical_xor(noise, test_im)\n",
    "figure()\n",
    "imshow(noise_test_im)"
   ]
  },
  {
   "cell_type": "markdown",
   "metadata": {},
   "source": [
    "### 3.1 Construct factor graph (10 points)\n",
    "Convert the Markov Random Field (Bishop, fig. 8.31) to a factor graph and instantiate it."
   ]
  },
  {
   "cell_type": "code",
   "execution_count": 1057,
   "metadata": {
    "collapsed": false,
    "scrolled": true
   },
   "outputs": [],
   "source": [
    "# YOUR ANSWER HERE\n",
    "from collections import defaultdict\n",
    "\n",
    "class MRF:\n",
    "    def __init__(self, image):\n",
    "        self.image = image\n",
    "        self.m = self.image.shape[0]\n",
    "        self.n = self.image.shape[1]\n",
    "        self.y_variables = numpy.array([[Variable]*self.n]*self.m, dtype=Variable)\n",
    "        self.x_variables = numpy.array([[Variable]*self.n]*self.m, dtype=Variable)\n",
    "        self.xx_factors = defaultdict(Factor)\n",
    "        self.xy_factors = defaultdict(Factor)\n",
    "    \n",
    "    def make_graph(self, flipping=0.1, similar=0.6):\n",
    "        \"\"\"\n",
    "        Construct the graph.\n",
    "        :param flipping: the prior probability of x_(i,j) != y_(i,j) (x_ij and y_ij are flipped)\n",
    "        :param similar: the prior probability of x_(i,j) == x_(i,j+1) or x_(i,j) == x_(i+1,j)\n",
    "                        (the prior probability of neighboring nodes in the denoised image being the same)\n",
    "        \"\"\" \n",
    "        # make ys, xs and \n",
    "        for i in range(self.m):\n",
    "            for j in range(self.n):\n",
    "                # make y\n",
    "                y = Variable('Y-{}'.format((i,j)), 2)\n",
    "                y.set_observed(int(self.image[i,j]))\n",
    "                self.y_variables[i,j] = y\n",
    "                # make x\n",
    "                x = Variable('X-{}'.format((i,j)), 2)\n",
    "                self.x_variables[i,j] = x\n",
    "                # make correlation-factor x-y\n",
    "                self.xy_factors[x, y] = Factor('Fxy-{}'.format((i,j)), \n",
    "                                                       np.array([[1-flipping, flipping], \n",
    "                                                                  [flipping, 1-flipping]]), \n",
    "                                                       [x, y])\n",
    "        # make xij-xij+1 factors\n",
    "        for i in range(self.m):\n",
    "            for j in range(self.n-1):\n",
    "                x_left = self.x_variables[i,j]\n",
    "                x_right = self.x_variables[i,j+1]\n",
    "                self.xx_factors[x_left, x_right] = Factor('Fxx-({0},{1}-{2})'.format(i,j,j+1), \n",
    "                                                       np.array([[similar, 1-similar], \n",
    "                                                                  [1-similar, similar]]), \n",
    "                                                       [x_left, x_right])\n",
    "        # make xij-xi+1j factors\n",
    "        for j in range(self.n):\n",
    "            for i in range(self.m-1):\n",
    "                x_top = self.x_variables[(i,j)]\n",
    "                x_bottom = self.x_variables[(i+1,j)]\n",
    "                self.xx_factors[x_top, x_bottom] = Factor('Fxx-({0}-{1},{2})'.format(i,i+1,j), \n",
    "                                                       np.array([[similar, 1-similar], \n",
    "                                                                  [1-similar, similar]]), \n",
    "                                                       [x_top, x_bottom])\n",
    " \n",
    "    \n",
    "    def passing(self, node_list, log=False):\n",
    "        for node in node_list:\n",
    "            if log: \n",
    "                print(\"Current node: {}\".format(node))\n",
    "                print('Pending:')\n",
    "                print('\\n'.join(['\\t{}'.format(pending) for pending in node.pending]))\n",
    "            for pending in list(node.pending):\n",
    "                if log: print('Sending from {0} to {1}'.format(node, pending))\n",
    "                node.send_ms_msg(pending)\n",
    "            if log: print('\\n')\n",
    "    \n",
    "    def initialize_messages(self, node_list):\n",
    "        \"\"\"\n",
    "        Send dummy messags (zeros) as initial message from\n",
    "        and to every node in the MRF\n",
    "        \"\"\"\n",
    "        for node in node_list:\n",
    "            for neighbour in node.neighbours:\n",
    "                if type(neighbour) == Variable:\n",
    "                    node.in_msgs[neighbour] = np.zeros(neighbour.num_states)\n",
    "                    node.pending.update({neighbour})\n",
    "                else:\n",
    "                    node.in_msgs[neighbour] = np.zeros(node.num_states)\n",
    "                    node.pending.update({neighbour})            \n",
    "            \n",
    "    def max_sum(self, iterations=1):\n",
    "        \"\"\"\n",
    "        Perform max_sum. (Optional iterations of passing)\n",
    "        \"\"\"\n",
    "        \n",
    "        def set_y_peding():\n",
    "            # Set f_xy pending for eac y\n",
    "            for i in range(self.m):\n",
    "                for j in range(self.n):\n",
    "                    y = self.y_variables[i,j]\n",
    "                    x = self.x_variables[i,j]\n",
    "                    factor = self.xy_factors[x, y]\n",
    "                    y.pending.add(factor)\n",
    "                    \n",
    "        # Flatten out arrays\n",
    "        flat_y = self.y_variables.flatten()\n",
    "        flat_x = self.x_variables.flatten()\n",
    "        xy_factors = np.array([factor for factor in self.xy_factors.values()])\n",
    "        xx_factors = np.array([factor for factor in self.xx_factors.values()])\n",
    "        \n",
    "        # Make node-list\n",
    "        one_way = concatenate((flat_y, xy_factors, flat_x, xx_factors))\n",
    "        other_way = reversed(concatenate((flat_y, xy_factors, flat_x)))\n",
    "\n",
    "        # Initialize by sending dummy messages\n",
    "        self.initialize_messages(one_way)\n",
    "        \n",
    "        # Repeat message passing 'iterations' number of times\n",
    "        for i in range(iterations):\n",
    "            set_y_peding()\n",
    "            self.passing(one_way)\n",
    "            self.passing(other_way)\n",
    "\n",
    "    def denoised(self):\n",
    "        \"\"\"\n",
    "        Returns a denoised image\n",
    "        \"\"\"\n",
    "        denoised = np.zeros((self.m, self.n))\n",
    "        \n",
    "        def MAP_state(node):\n",
    "            # Compute the MAP-state for a node\n",
    "            mus = [node.in_msgs[nb] for nb in node.neighbours] + np.log(node.observed_state)\n",
    "            return np.argmax(np.add.reduce(mus))\n",
    "        \n",
    "        for i in range(self.m):\n",
    "            for j in range(self.n):\n",
    "                x = self.x_variables[i,j]\n",
    "                denoised[i,j] = MAP_state(x)\n",
    "        return denoised"
   ]
  },
  {
   "cell_type": "markdown",
   "metadata": {},
   "source": [
    "### 3.2 Loopy max-sum (10 points)\n",
    "Implement the loopy max-sum algorithm, by passing messages from randomly chosen nodes iteratively until no more pending messages are created or a maximum number of iterations is reached. \n",
    "\n",
    "Think of a good way to initialize the messages in the graph."
   ]
  },
  {
   "cell_type": "code",
   "execution_count": 7,
   "metadata": {
    "collapsed": true
   },
   "outputs": [],
   "source": [
    "# YOUR ANSWER hErE\n",
    "\n",
    "# The answer is in class MRF"
   ]
  },
  {
   "cell_type": "markdown",
   "metadata": {},
   "source": [
    "The values for `flipping` and `similar` have a lot of influence on the performance of the denoising. The effects of similar can be seen clearly:"
   ]
  },
  {
   "cell_type": "code",
   "execution_count": 1073,
   "metadata": {
    "collapsed": false
   },
   "outputs": [
    {
     "data": {
      "text/plain": [
       "<matplotlib.image.AxesImage at 0x179b68fd0>"
      ]
     },
     "execution_count": 1073,
     "metadata": {},
     "output_type": "execute_result"
    },
    {
     "data": {
      "image/png": "[encoded data removed]",
      "text/plain": [
       "<matplotlib.figure.Figure at 0x1797f9630>"
      ]
     },
     "metadata": {},
     "output_type": "display_data"
    },
    {
     "data": {
      "image/png": "[encoded data removed]",
      "text/plain": [
       "<matplotlib.figure.Figure at 0x179a74198>"
      ]
     },
     "metadata": {},
     "output_type": "display_data"
    },
    {
     "data": {
      "image/png": "[encoded data removed]",
      "text/plain": [
       "<matplotlib.figure.Figure at 0x179a38b70>"
      ]
     },
     "metadata": {},
     "output_type": "display_data"
    }
   ],
   "source": [
    "# similar = 0.2\n",
    "\n",
    "mrf = MRF(noise_test_im)\n",
    "mrf.make_graph(flipping=0.1, similar=0.2)\n",
    "mrf.max_sum(iterations=1)\n",
    "\n",
    "denoised = mrf.denoised()\n",
    "\n",
    "figure()\n",
    "imshow(test_im)\n",
    "\n",
    "figure()\n",
    "imshow(noise_test_im)\n",
    "\n",
    "figure()\n",
    "imshow(denoised)"
   ]
  },
  {
   "cell_type": "code",
   "execution_count": 1075,
   "metadata": {
    "collapsed": false
   },
   "outputs": [
    {
     "data": {
      "text/plain": [
       "<matplotlib.image.AxesImage at 0x1f3600550>"
      ]
     },
     "execution_count": 1075,
     "metadata": {},
     "output_type": "execute_result"
    },
    {
     "data": {
      "image/png": "[encoded data removed]",
      "text/plain": [
       "<matplotlib.figure.Figure at 0x179416a20>"
      ]
     },
     "metadata": {},
     "output_type": "display_data"
    },
    {
     "data": {
      "image/png": "[encoded data removed]",
      "text/plain": [
       "<matplotlib.figure.Figure at 0x1f3547828>"
      ]
     },
     "metadata": {},
     "output_type": "display_data"
    },
    {
     "data": {
      "image/png": "[encoded data removed]",
      "text/plain": [
       "<matplotlib.figure.Figure at 0x179f4c240>"
      ]
     },
     "metadata": {},
     "output_type": "display_data"
    }
   ],
   "source": [
    "# similar = 0.7\n",
    "\n",
    "mrf = MRF(noise_test_im)\n",
    "mrf.make_graph(flipping=0.1, similar=0.7)\n",
    "mrf.max_sum(iterations=1)\n",
    "\n",
    "denoised = mrf.denoised()\n",
    "\n",
    "figure()\n",
    "imshow(test_im)\n",
    "\n",
    "figure()\n",
    "imshow(noise_test_im)\n",
    "\n",
    "figure()\n",
    "imshow(denoised)"
   ]
  },
  {
   "cell_type": "code",
   "execution_count": 1078,
   "metadata": {
    "collapsed": false
   },
   "outputs": [
    {
     "data": {
      "text/plain": [
       "<matplotlib.image.AxesImage at 0x1f40abd30>"
      ]
     },
     "execution_count": 1078,
     "metadata": {},
     "output_type": "execute_result"
    },
    {
     "data": {
      "image/png": "[encoded data removed]",
      "text/plain": [
       "<matplotlib.figure.Figure at 0x1f3f63748>"
      ]
     },
     "metadata": {},
     "output_type": "display_data"
    },
    {
     "data": {
      "image/png": "[encoded data removed]",
      "text/plain": [
       "<matplotlib.figure.Figure at 0x1f3fba048>"
      ]
     },
     "metadata": {},
     "output_type": "display_data"
    },
    {
     "data": {
      "image/png": "[encoded data removed]",
      "text/plain": [
       "<matplotlib.figure.Figure at 0x1f3ff5a20>"
      ]
     },
     "metadata": {},
     "output_type": "display_data"
    }
   ],
   "source": [
    "# similar = 0.9\n",
    "\n",
    "mrf = MRF(noise_test_im)\n",
    "mrf.make_graph(flipping=0.1, similar=0.9)\n",
    "mrf.max_sum(iterations=1)\n",
    "\n",
    "denoised = mrf.denoised()\n",
    "\n",
    "figure()\n",
    "imshow(test_im)\n",
    "\n",
    "figure()\n",
    "imshow(noise_test_im)\n",
    "\n",
    "figure()\n",
    "imshow(denoised)"
   ]
  },
  {
   "cell_type": "markdown",
   "metadata": {},
   "source": [
    "The effects of a high value of `flipping` are that an almost completely flipped picture becomes most likely:"
   ]
  },
  {
   "cell_type": "code",
   "execution_count": 1084,
   "metadata": {
    "collapsed": false
   },
   "outputs": [
    {
     "data": {
      "text/plain": [
       "<matplotlib.image.AxesImage at 0x139e616a0>"
      ]
     },
     "execution_count": 1084,
     "metadata": {},
     "output_type": "execute_result"
    },
    {
     "data": {
      "image/png": "[encoded data removed]",
      "text/plain": [
       "<matplotlib.figure.Figure at 0x139c4bb38>"
      ]
     },
     "metadata": {},
     "output_type": "display_data"
    },
    {
     "data": {
      "image/png": "[encoded data removed]",
      "text/plain": [
       "<matplotlib.figure.Figure at 0x139d57978>"
      ]
     },
     "metadata": {},
     "output_type": "display_data"
    },
    {
     "data": {
      "image/png": "[encoded data removed]",
      "text/plain": [
       "<matplotlib.figure.Figure at 0x139db9390>"
      ]
     },
     "metadata": {},
     "output_type": "display_data"
    }
   ],
   "source": [
    "# flipping = 0.8\n",
    "\n",
    "mrf = MRF(noise_test_im)\n",
    "mrf.make_graph(flipping=0.8, similar=0.6)\n",
    "mrf.max_sum(iterations=1)\n",
    "\n",
    "denoised = mrf.denoised()\n",
    "\n",
    "figure()\n",
    "imshow(test_im)\n",
    "\n",
    "figure()\n",
    "imshow(noise_test_im)\n",
    "\n",
    "figure()\n",
    "imshow(denoised)"
   ]
  },
  {
   "cell_type": "code",
   "execution_count": 1092,
   "metadata": {
    "collapsed": false
   },
   "outputs": [
    {
     "data": {
      "text/plain": [
       "<matplotlib.image.AxesImage at 0x13bbfabe0>"
      ]
     },
     "execution_count": 1092,
     "metadata": {},
     "output_type": "execute_result"
    },
    {
     "data": {
      "image/png": "[encoded data removed]",
      "text/plain": [
       "<matplotlib.figure.Figure at 0x13b8f4630>"
      ]
     },
     "metadata": {},
     "output_type": "display_data"
    },
    {
     "data": {
      "image/png": "[encoded data removed]",
      "text/plain": [
       "<matplotlib.figure.Figure at 0x13b915eb8>"
      ]
     },
     "metadata": {},
     "output_type": "display_data"
    },
    {
     "data": {
      "image/png": "[encoded data removed]",
      "text/plain": [
       "<matplotlib.figure.Figure at 0x13bad78d0>"
      ]
     },
     "metadata": {},
     "output_type": "display_data"
    }
   ],
   "source": [
    "# flipping = 0.2\n",
    "\n",
    "mrf = MRF(noise_test_im)\n",
    "mrf.make_graph(flipping=0.2, similar=0.6)\n",
    "mrf.max_sum(iterations=1)\n",
    "\n",
    "denoised = mrf.denoised()\n",
    "\n",
    "figure()\n",
    "imshow(test_im)\n",
    "\n",
    "figure()\n",
    "imshow(noise_test_im)\n",
    "\n",
    "figure()\n",
    "imshow(denoised)"
   ]
  },
  {
   "cell_type": "markdown",
   "metadata": {},
   "source": [
    "Our best run is with `flipping=0.1` and `similar=0.8`:"
   ]
  },
  {
   "cell_type": "code",
   "execution_count": 1096,
   "metadata": {
    "collapsed": false
   },
   "outputs": [
    {
     "data": {
      "text/plain": [
       "<matplotlib.image.AxesImage at 0x13ca966a0>"
      ]
     },
     "execution_count": 1096,
     "metadata": {},
     "output_type": "execute_result"
    },
    {
     "data": {
      "image/png": "[encoded data removed]",
      "text/plain": [
       "<matplotlib.figure.Figure at 0x13c83ca20>"
      ]
     },
     "metadata": {},
     "output_type": "display_data"
    },
    {
     "data": {
      "image/png": "[encoded data removed]",
      "text/plain": [
       "<matplotlib.figure.Figure at 0x13c95a978>"
      ]
     },
     "metadata": {},
     "output_type": "display_data"
    },
    {
     "data": {
      "image/png": "[encoded data removed]",
      "text/plain": [
       "<matplotlib.figure.Figure at 0x13c9d1390>"
      ]
     },
     "metadata": {},
     "output_type": "display_data"
    }
   ],
   "source": [
    "# flipping = 0.2\n",
    "\n",
    "mrf = MRF(noise_test_im)\n",
    "mrf.make_graph(flipping=0.1, similar=0.8)\n",
    "mrf.max_sum(iterations=1)\n",
    "\n",
    "denoised = mrf.denoised()\n",
    "\n",
    "figure()\n",
    "imshow(test_im)\n",
    "\n",
    "figure()\n",
    "imshow(noise_test_im)\n",
    "\n",
    "figure()\n",
    "imshow(denoised)"
   ]
  },
  {
   "cell_type": "markdown",
   "metadata": {},
   "source": [
    "This setting we use for the big image. As you can see, with great succes!"
   ]
  },
  {
   "cell_type": "code",
   "execution_count": 1113,
   "metadata": {
    "collapsed": false
   },
   "outputs": [],
   "source": [
    "mrf = MRF(noise_im)\n",
    "mrf.make_graph(flipping=0.1, similar=0.8)\n",
    "mrf.max_sum(iterations=1)\n",
    "\n",
    "denoised_good = mrf.denoised()"
   ]
  },
  {
   "cell_type": "code",
   "execution_count": 1115,
   "metadata": {
    "collapsed": false
   },
   "outputs": [
    {
     "name": "stdout",
     "output_type": "stream",
     "text": [
      "Noise in the noisy picture: 10.021555555555556%\n",
      "Noise left in the denoised picture: 2.281111111111111%\n"
     ]
    },
    {
     "data": {
      "image/png": "[encoded data removed]",
      "text/plain": [
       "<matplotlib.figure.Figure at 0x20914e710>"
      ]
     },
     "metadata": {},
     "output_type": "display_data"
    },
    {
     "data": {
      "image/png": "[encoded data removed]",
      "text/plain": [
       "<matplotlib.figure.Figure at 0x201f89a90>"
      ]
     },
     "metadata": {},
     "output_type": "display_data"
    },
    {
     "data": {
      "image/png": "[encoded data removed]",
      "text/plain": [
       "<matplotlib.figure.Figure at 0x201278240>"
      ]
     },
     "metadata": {},
     "output_type": "display_data"
    }
   ],
   "source": [
    "imshow(im)\n",
    "gray()\n",
    "\n",
    "figure()\n",
    "imshow(noise_im)\n",
    "\n",
    "figure()\n",
    "imshow(denoised_good)\n",
    "\n",
    "original_noise = 100 * np.sum(noise_im != im) / float(im.shape[0]*im.shape[1])\n",
    "noise_left = 100 * np.sum(denoised_good != im) / float(im.shape[0]*im.shape[1])\n",
    "\n",
    "print('Noise in the noisy picture: {}%'.format(original_noise))\n",
    "print('Noise left in the denoised picture: {}%'.format(noise_left))"
   ]
  },
  {
   "cell_type": "markdown",
   "metadata": {},
   "source": [
    "If we use the (terrible) high flipping prior of `flipping=0.8` we get a somewhat denoised picture, but almost completely flipped!"
   ]
  },
  {
   "cell_type": "code",
   "execution_count": 1099,
   "metadata": {
    "collapsed": true
   },
   "outputs": [],
   "source": [
    "mrf = MRF(noise_im)\n",
    "mrf.make_graph(flipping=0.8, similar=0.6)\n",
    "mrf.max_sum(iterations=1)\n",
    "\n",
    "denoised_bad = mrf.denoised()"
   ]
  },
  {
   "cell_type": "code",
   "execution_count": 1100,
   "metadata": {
    "collapsed": false
   },
   "outputs": [
    {
     "data": {
      "text/plain": [
       "<matplotlib.image.AxesImage at 0x1bbabfd30>"
      ]
     },
     "execution_count": 1100,
     "metadata": {},
     "output_type": "execute_result"
    },
    {
     "data": {
      "image/png": "[encoded data removed]",
      "text/plain": [
       "<matplotlib.figure.Figure at 0x206be68d0>"
      ]
     },
     "metadata": {},
     "output_type": "display_data"
    },
    {
     "data": {
      "image/png": "[encoded data removed]",
      "text/plain": [
       "<matplotlib.figure.Figure at 0x1cf3065c0>"
      ]
     },
     "metadata": {},
     "output_type": "display_data"
    },
    {
     "data": {
      "image/png": "[encoded data removed]",
      "text/plain": [
       "<matplotlib.figure.Figure at 0x1cf306d30>"
      ]
     },
     "metadata": {},
     "output_type": "display_data"
    }
   ],
   "source": [
    "imshow(im)\n",
    "gray()\n",
    "\n",
    "figure()\n",
    "imshow(noise_im)\n",
    "\n",
    "figure()\n",
    "imshow(denoised_bad)"
   ]
  }
 ],
 "metadata": {
  "kernelspec": {
   "display_name": "Python 3",
   "language": "python",
   "name": "python3"
  },
  "language_info": {
   "codemirror_mode": {
    "name": "ipython",
    "version": 3
   },
   "file_extension": ".py",
   "mimetype": "text/x-python",
   "name": "python",
   "nbconvert_exporter": "python",
   "pygments_lexer": "ipython3",
   "version": "3.6.0"
  }
 },
 "nbformat": 4,
 "nbformat_minor": 0
}
